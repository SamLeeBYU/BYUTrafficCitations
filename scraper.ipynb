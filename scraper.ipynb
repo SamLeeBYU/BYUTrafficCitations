{
 "cells": [
  {
   "cell_type": "code",
   "execution_count": 178,
   "id": "0b15e3aa",
   "metadata": {},
   "outputs": [],
   "source": [
    "import pandas as pd\n",
    "import threading\n",
    "import time\n",
    "import re\n",
    "import os\n",
    "\n",
    "#import selenium libraries\n",
    "from selenium import webdriver\n",
    "from selenium.webdriver.common.by import By\n",
    "from selenium.webdriver import ActionChains\n",
    "from webdriver_manager.chrome import ChromeDriverManager\n",
    "\n",
    "from selenium.webdriver.support.ui import WebDriverWait\n",
    "from selenium.webdriver.support import expected_conditions as EC\n",
    "from selenium.webdriver.chrome.options import Options\n",
    "from selenium.webdriver.chrome.service import Service\n",
    "\n",
    "DATA = pd.DataFrame()\n",
    "def save_data(data, save=False):\n",
    "    global DATA\n",
    "    if DATA.empty:\n",
    "        DATA = data\n",
    "    else:\n",
    "        DATA = pd.concat([DATA, data])\n",
    "    \n",
    "    if save:\n",
    "        #Clean the data before saving it to the file\n",
    "        DATA[\"Officer\"] = DATA[\"Citation\"].apply(lambda x: re.search(r'P(\\d)', x).group(1))\n",
    "        DATA[\"Fine\"] = DATA[\"Fine\"].apply(lambda x: float(x.replace('$', '').replace(',', '')))\n",
    "        DATA[\"Residence\"] = DATA[\"License Plate/Vin\"].str.split().str[0]\n",
    "        DATA[\"IssuedDate\"]=pd.to_datetime(data[\"Issued\"].apply(lambda x: \" \".join(x.split()[:3]))) \n",
    "        DATA[\"IssuedTime\"]=pd.to_datetime(data[\"Issued\"]).dt.strftime('%I:%M %p')\n",
    "        \n",
    "        if os.path.exists(\"ParkingCitations.csv\"):\n",
    "            DATA.to_csv(\"ParkingCitations.csv\", mode='a', index=False, header=False)\n",
    "        else:\n",
    "            DATA.to_csv(\"ParkingCitations.csv\", index=False)\n",
    "            \n",
    "    return(DATA)"
   ]
  },
  {
   "cell_type": "code",
   "execution_count": 169,
   "id": "863d3a66",
   "metadata": {},
   "outputs": [],
   "source": [
    "PATH = \"Driver\\chromedriver.exe\"\n",
    "\n",
    "def selenium_driver():\n",
    "    \n",
    "    service = Service(PATH)\n",
    "\n",
    "    options = Options()\n",
    "    driver = webdriver.Chrome(service=service, options=options)\n",
    "    return driver\n",
    "\n",
    "#Create the chrome driver that can be referred to globally\n",
    "driver = selenium_driver()"
   ]
  },
  {
   "cell_type": "code",
   "execution_count": 32,
   "id": "c4c0364a",
   "metadata": {},
   "outputs": [],
   "source": [
    "def measure_time(start_time, Scraper: s, threshold=10.1):\n",
    "    counting = True\n",
    "    while counting and not s.citation_found:\n",
    "        current = time.perf_count() - start_time\n",
    "        if current >= threshold:\n",
    "            counting = False\n",
    "            s.flag = True\n",
    "        time.sleep(0.1)"
   ]
  },
  {
   "cell_type": "code",
   "execution_count": 179,
   "id": "ac1f6b0a",
   "metadata": {},
   "outputs": [
    {
     "name": "stdout",
     "output_type": "stream",
     "text": [
      "P1-00000\n",
      "P1-00001\n",
      "P1-00002\n",
      "P1-00003\n",
      "P1-00004\n",
      "P1-00005\n",
      "P1-00006\n",
      "P1-00007\n",
      "P1-00008\n",
      "P1-00009\n",
      "P1-00010\n"
     ]
    }
   ],
   "source": [
    "class Scraper():\n",
    "    \n",
    "    def __init__(self, url):\n",
    "        #Define the url to scrape\n",
    "        self._url = url\n",
    "        driver.get(url)\n",
    "        \n",
    "        #Some properties that will help us see if the citation has been found\n",
    "        self._citation_found = False\n",
    "        self._flag = False\n",
    "        \n",
    "        #Define parameters of loop\n",
    "        self.officers = range(1, 10+1)\n",
    "        self.index = range(1, 99999+1)\n",
    "        \n",
    "    @property\n",
    "    def url(self):\n",
    "        return self._url\n",
    "    \n",
    "    @property\n",
    "    def citation_found(self):\n",
    "        return self._citation_found\n",
    "    \n",
    "    @property\n",
    "    def flag(self):\n",
    "        return self._flag\n",
    "    \n",
    "    @flag.setter\n",
    "    def flag(self, change):\n",
    "        self._flag = change\n",
    "    \n",
    "    @staticmethod\n",
    "    def find_citation():\n",
    "        WebDriverWait(driver, 10).until(\n",
    "            EC.element_to_be_clickable((By.CLASS_NAME, \"v-btn__content\"))\n",
    "        )\n",
    "        find_citation_btn = driver.find_elements(By.CLASS_NAME, \"v-btn__content\")[0]\n",
    "        find_citation_btn.click()\n",
    "    \n",
    "    @staticmethod\n",
    "    def send_keys(data={\"officer\": 1, \"index\": 0}):\n",
    "        index = \"0\"*(5-len(str(data[\"index\"])))+str(data[\"index\"])\n",
    "        key = f\"P{data['officer']}-{index}\"\n",
    "        print(key)\n",
    "        \n",
    "        #Search the key into the search bar\n",
    "        \n",
    "        #Sometimes dynamically loaded websites will spoof the identifiers of their web elements\n",
    "        #This makes it harder to consistently identify.\n",
    "        \n",
    "        #One solution is to use XPATH\n",
    "        #Another solution is to find the unique combination of nested HTML tags and target that.\n",
    "        \n",
    "        #i.e. if I know the link (<a> tag) I want to target is always the first link in the p tags of every\n",
    "        #div that can be identified with a positional or classical identifier, then I can identify the <a> tag\n",
    "        #even if the <a> isn't explicitly identifiable through other identifiers.\n",
    "        \n",
    "        WebDriverWait(driver, 10).until(\n",
    "            EC.element_to_be_clickable((By.CSS_SELECTOR, \".v-text-field__slot input\"))\n",
    "        )\n",
    "        input_field = driver.find_elements(By.CSS_SELECTOR, \".v-text-field__slot input\")[0]\n",
    "        driver.execute_script(\"arguments[0].value = '';\", input_field)\n",
    "        input_field.send_keys(key)\n",
    "        \n",
    "        #Search the citation\n",
    "        WebDriverWait(driver, 10).until(\n",
    "            EC.element_to_be_clickable((By.CSS_SELECTOR, \".v-input__append-inner button\"))\n",
    "        )\n",
    "        search_btn = driver.find_elements(By.CSS_SELECTOR, \".v-input__append-inner button\")[0]\n",
    "        search_btn.click()\n",
    "    \n",
    "    def get_data(self):\n",
    "        citation_data = driver.find_elements(By.CSS_SELECTOR, \".v-card__text .col\")\n",
    "        no_data_text = driver.find_elements(By.CSS_SELECTOR, \".v-card__text .text-center h4\")\n",
    "        while len(citation_data) < 1 and len(no_data_text) < 1:\n",
    "            citation_data = driver.find_elements(By.CSS_SELECTOR, \".v-card__text .col\")\n",
    "            no_data_text = driver.find_elements(By.CSS_SELECTOR, \".v-card__text .text-center h4\")\n",
    "            time.sleep(0.1)\n",
    "        \n",
    "        if len(no_data_text) >= 1:\n",
    "            return \"No data\"\n",
    "        else:\n",
    "            #Now we need to parse the data into a pandas data frame\n",
    "            return self.format_text([el.text for el in citation_data])\n",
    "    \n",
    "    @staticmethod\n",
    "    def format_text(text_arr):\n",
    "        #Takes the text data and returns a formatted pandas frame\n",
    "        cols = list(map(lambda x: x.split(\":\\n\")[0], text_arr))\n",
    "        data = list(map(lambda x: x.split(\":\\n\")[1], text_arr))\n",
    "        row = pd.DataFrame(data, cols).transpose()\n",
    "        return row\n",
    "        \n",
    "    def main_loop(self):\n",
    "        self.find_citation()\n",
    "        for i in range(1,2): #self.officers:\n",
    "            for j in range(0, 10+1): #self.index:\n",
    "                self.send_keys({\"officer\": i, \"index\": j})\n",
    "                \n",
    "                #Store the data in the RAM\n",
    "                #Save it to a file when it is the last index\n",
    "                #i.e. save it to a file when we are done scraping each officer's citations\n",
    "                scraped_data = self.get_data()\n",
    "                save_data(scraped_data, save = j == 10) #len(self.index)-1))\n",
    "        \n",
    "    \n",
    "scraper = Scraper(\"https://cars.byu.edu/citations/\")\n",
    "scraper.main_loop()"
   ]
  },
  {
   "cell_type": "code",
   "execution_count": 103,
   "id": "d7ae47fb",
   "metadata": {},
   "outputs": [
    {
     "data": {
      "text/plain": [
       "['Citation:\\nP1-00010',\n",
       " 'License Plate/Vin:\\nUT 182MXZ',\n",
       " 'Fine:\\n$0',\n",
       " 'Issued:\\nJun 01, 2010 02:37 PM']"
      ]
     },
     "execution_count": 103,
     "metadata": {},
     "output_type": "execute_result"
    }
   ],
   "source": [
    "data={\"officer\": 1, \"index\": \n",
    "[el.text for el in scraper.get_data()]"
   ]
  },
  {
   "cell_type": "code",
   "execution_count": 106,
   "id": "08c4b96f",
   "metadata": {},
   "outputs": [
    {
     "data": {
      "text/plain": [
       "['Citation:\\nP1-00010',\n",
       " 'License Plate/Vin:\\nUT 182MXZ',\n",
       " 'Fine:\\n$0',\n",
       " 'Issued:\\nJun 01, 2010 02:37 PM']"
      ]
     },
     "execution_count": 106,
     "metadata": {},
     "output_type": "execute_result"
    }
   ],
   "source": []
  },
  {
   "cell_type": "code",
   "execution_count": 159,
   "id": "9213e6f9",
   "metadata": {},
   "outputs": [
    {
     "ename": "TypeError",
     "evalue": "'bool' object is not callable",
     "output_type": "error",
     "traceback": [
      "\u001b[1;31m---------------------------------------------------------------------------\u001b[0m",
      "\u001b[1;31mTypeError\u001b[0m                                 Traceback (most recent call last)",
      "Cell \u001b[1;32mIn[159], line 9\u001b[0m\n\u001b[0;32m      7\u001b[0m row[\u001b[38;5;124m\"\u001b[39m\u001b[38;5;124mIssuedDate\u001b[39m\u001b[38;5;124m\"\u001b[39m]\u001b[38;5;241m=\u001b[39mpd\u001b[38;5;241m.\u001b[39mto_datetime(row[\u001b[38;5;124m\"\u001b[39m\u001b[38;5;124mIssued\u001b[39m\u001b[38;5;124m\"\u001b[39m]\u001b[38;5;241m.\u001b[39mapply(\u001b[38;5;28;01mlambda\u001b[39;00m x: \u001b[38;5;124m\"\u001b[39m\u001b[38;5;124m \u001b[39m\u001b[38;5;124m\"\u001b[39m\u001b[38;5;241m.\u001b[39mjoin(x\u001b[38;5;241m.\u001b[39msplit()[:\u001b[38;5;241m3\u001b[39m]))) \n\u001b[0;32m      8\u001b[0m row[\u001b[38;5;124m\"\u001b[39m\u001b[38;5;124mIssuedTime\u001b[39m\u001b[38;5;124m\"\u001b[39m]\u001b[38;5;241m=\u001b[39mpd\u001b[38;5;241m.\u001b[39mto_datetime(row[\u001b[38;5;124m\"\u001b[39m\u001b[38;5;124mIssued\u001b[39m\u001b[38;5;124m\"\u001b[39m])\u001b[38;5;241m.\u001b[39mdt\u001b[38;5;241m.\u001b[39mstrftime(\u001b[38;5;124m'\u001b[39m\u001b[38;5;124m%\u001b[39m\u001b[38;5;124mI:\u001b[39m\u001b[38;5;124m%\u001b[39m\u001b[38;5;124mM \u001b[39m\u001b[38;5;124m%\u001b[39m\u001b[38;5;124mp\u001b[39m\u001b[38;5;124m'\u001b[39m)\n\u001b[1;32m----> 9\u001b[0m \u001b[43mrow\u001b[49m\u001b[38;5;241;43m.\u001b[39;49m\u001b[43mempty\u001b[49m\u001b[43m(\u001b[49m\u001b[43m)\u001b[49m \u001b[38;5;241m==\u001b[39m \u001b[38;5;28;01mTrue\u001b[39;00m\n",
      "\u001b[1;31mTypeError\u001b[0m: 'bool' object is not callable"
     ]
    }
   ],
   "source": [
    "cols = list(map(lambda x: x.split(\":\\n\")[0], test_data))\n",
    "data = list(map(lambda x: x.split(\":\\n\")[1], test_data))\n",
    "row = pd.DataFrame(data, cols).transpose()\n",
    "row[\"Officer\"] = row[\"Citation\"].apply(lambda x: re.search(r'P(\\d)', x).group(1))\n",
    "row[\"Fine\"] = row[\"Fine\"].apply(lambda x: float(x.replace('$', '').replace(',', '')))\n",
    "row[\"Residence\"] = row[\"License Plate/Vin\"].str.split().str[0]\n",
    "row[\"IssuedDate\"]=pd.to_datetime(row[\"Issued\"].apply(lambda x: \" \".join(x.split()[:3]))) \n",
    "row[\"IssuedTime\"]=pd.to_datetime(row[\"Issued\"]).dt.strftime('%I:%M %p')\n"
   ]
  },
  {
   "cell_type": "code",
   "execution_count": 147,
   "id": "3d716497",
   "metadata": {},
   "outputs": [
    {
     "data": {
      "text/plain": [
       "'02:37 PM'"
      ]
     },
     "execution_count": 147,
     "metadata": {},
     "output_type": "execute_result"
    }
   ],
   "source": [
    "' '.join(\"Jun 01, 2020 02:37 PM\".split()[3:])"
   ]
  }
 ],
 "metadata": {
  "kernelspec": {
   "display_name": "Python 3 (ipykernel)",
   "language": "python",
   "name": "python3"
  },
  "language_info": {
   "codemirror_mode": {
    "name": "ipython",
    "version": 3
   },
   "file_extension": ".py",
   "mimetype": "text/x-python",
   "name": "python",
   "nbconvert_exporter": "python",
   "pygments_lexer": "ipython3",
   "version": "3.11.2"
  }
 },
 "nbformat": 4,
 "nbformat_minor": 5
}
