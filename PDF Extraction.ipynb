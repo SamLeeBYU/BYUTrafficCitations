{
 "cells": [
  {
   "cell_type": "code",
   "execution_count": 1,
   "id": "08b0c535",
   "metadata": {},
   "outputs": [
    {
     "name": "stdout",
     "output_type": "stream",
     "text": [
      "{'credits': 50, 'queued': 0, 'used': 46}\n"
     ]
    }
   ],
   "source": [
    "from ExtractTable import ExtractTable\n",
    "import pandas as pd\n",
    "import matplotlib.pyplot as plt\n",
    "import seaborn as sns\n",
    "\n",
    "with open('extraction_api_key.txt', 'r') as file:\n",
    "    api_key = file.read()\n",
    "    \n",
    "et_sess = ExtractTable(api_key)\n",
    "\n",
    "# et_sess.__dict__\n",
    "usage = et_sess.check_usage()\n",
    "print(usage)"
   ]
  },
  {
   "cell_type": "code",
   "execution_count": 2,
   "id": "9944d2e1",
   "metadata": {},
   "outputs": [],
   "source": [
    "data_dir = \"Provo Air Quality Data\"\n",
    "\n",
    "# et_sess.process_file(filepath=data_dir+\"/NO2-2014.png\", output_format=\"df\")"
   ]
  },
  {
   "cell_type": "code",
   "execution_count": 102,
   "id": "c11c3302",
   "metadata": {},
   "outputs": [
    {
     "data": {
      "text/plain": [
       "'Provo Air Quality Data'"
      ]
     },
     "execution_count": 102,
     "metadata": {},
     "output_type": "execute_result"
    }
   ],
   "source": [
    "et_sess.save_output(data_dir, output_format=\"csv\")"
   ]
  },
  {
   "cell_type": "code",
   "execution_count": 104,
   "id": "7e5320da",
   "metadata": {},
   "outputs": [
    {
     "name": "stdout",
     "output_type": "stream",
     "text": [
      "{'credits': 10, 'queued': 0, 'used': 1}\n"
     ]
    }
   ],
   "source": [
    "usage = et_sess.check_usage()\n",
    "print(usage)"
   ]
  },
  {
   "cell_type": "code",
   "execution_count": 141,
   "id": "e2c4ac7e",
   "metadata": {},
   "outputs": [],
   "source": [
    "from PIL import Image, ImageEnhance\n",
    "import pytesseract\n",
    "import re\n",
    "\n",
    "pytesseract.pytesseract.tesseract_cmd = r'C:\\Program Files\\Tesseract-OCR\\tesseract.exe'"
   ]
  },
  {
   "cell_type": "code",
   "execution_count": 3,
   "id": "2f2da9ae",
   "metadata": {},
   "outputs": [
    {
     "name": "stdout",
     "output_type": "stream",
     "text": [
      "Provo Air Quality Data/PM10-2014.png\n",
      "Provo Air Quality Data/PM10-2015.png\n",
      "Provo Air Quality Data/PM10-2016.png\n"
     ]
    }
   ],
   "source": [
    "metrics = [\"CO\", \"NO2\", \"O3\", \"PM10\", \"PM25\"]\n",
    "months = ['JANUARY', 'FEBRUARY', 'MARCH', 'APRIL', 'MAY', 'JUNE', 'JULY', 'AUGUST', 'SEPTEMBER', 'OCTOBER', 'NOVEMBER', 'DECEMBER']\n",
    "#metrics = [\"PM10\"]\n",
    "\n",
    "image_paths = [\n",
    "    f\"{data_dir}/{metric}-{year}.png\"\n",
    "    for year in range(2014, 2022 + 1)\n",
    "    for metric in metrics\n",
    "]\n",
    "\n",
    "for path in image_paths:\n",
    "    print(path)\n",
    "    et_sess.process_file(path, output_format=\"df\")\n",
    "    et_sess.save_output(data_dir, output_format=\"csv\")"
   ]
  },
  {
   "cell_type": "code",
   "execution_count": 149,
   "id": "2d2e1ca9",
   "metadata": {},
   "outputs": [
    {
     "data": {
      "text/plain": [
       "'D JANUARY FEBRUARY MARCH APRIL MAY JUNE JULY AUGUST SEPTEMBER OCTOBER NOEMBER DECEMBER\\n1 029 035 045 .049 043 061 065 020 053 .038 042 .025\\n2 020 038 045 045 056 067 .060 054 050 .040 037 .013\\n3 018 033 045 .050 052 .063 049 046 045 .040 .030 .022\\n4 035 034 028 048 058 066 .050 044 043 046 030 014\\n5 037 026 1036 047 2055 1066 .055 1042 039 .043 031 .018\\n6 022 032 .040 043 054 .055 .067 .053 041 038 .028 021\\n7 007 040 039 049 058 064 .073 049 045 .038 013 .022\\n8 003 039 044 044 048 046 074 .055 035 .036 036 016\\n9 021 032 046 047 046 058 054 060 024 043 036 019\\n10 2021 2025 .044 .055 052 .056 052 .060 045 .049 042 .O1L\\n11 036 030 .038 .053 049 .060 .051 053 043 .040 027 .010\\n12 038 021 042 .050 047 .063 067 .042 038 .037 024 045\\n13 025 022 045 .043 051 065 065 .039 043 036 022 .043\\n14 .024 .009 2045 050 2053 .041 .060 .049 .047 .016 026 .031\\n15 020 005 050 050 054 .051 056 050 048 042 024\\n16 018 037 049 .058 054 .043 059 056 044 .009 035 .017\\n17 016 022 046 .054 054 .038 .063 .052 042 .039 027 .O11\\n18 023 035 036 049 061 047 .068 .053 035 041 025 025\\n19 .024 040 1046 053 .055 .054 .072 036 046 2011 023\\n20 O017 041 043 .059 056 055 050 050 .038 008 020\\n21 016 041 039 058 055 054 045 045 038 020 .034\\n22 014 039 051 055 055 054 .050 046 .038 033 .037\\n23 021 042 054 047 039 .062 .031 056 047 .033 038 .029\\n24 2025 043 .052 .O051 .047 .058 .055 043 .037 036 028\\n25 026 037 050 .058 059 060 .048 044 .038 006 .037\\n26 031 034 044 .041 055 .050 .037 034 045 021 .032\\n27 016 030 043 .048 055 045 .043 029 041 010 029\\n28 029 031 047 .050 053 058 052 044 .033 031 .034\\n29 032 1049 .O051 2051 063 .048 048 .025 038 1034\\n30 028 051 056 .053 .061 039 038 028 030 026\\n31 026 043 055 .047 .042 .025\\n'"
      ]
     },
     "execution_count": 149,
     "metadata": {},
     "output_type": "execute_result"
    }
   ],
   "source": [
    "image = Image.open(\"Provo Air Quality Data/O3-2014.png\")\n",
    "\n",
    "enhancer = ImageEnhance.Contrast(image)\n",
    "image = enhancer.enhance(2.0)  # Increase the contrast (adjust the factor as needed)\n",
    "\n",
    "# Enhance image sharpness\n",
    "enhancer = ImageEnhance.Sharpness(image)\n",
    "image = enhancer.enhance(2.0)\n",
    "\n",
    "custom_config = r'--oem 3 --psm 6 -c tessedit_char_whitelist=0123456789ABCDEFGHIJLMPNORSTUVY.'\n",
    "text = pytesseract.image_to_string(image, config=custom_config)\n",
    "text"
   ]
  },
  {
   "cell_type": "code",
   "execution_count": 134,
   "id": "fb5d5893",
   "metadata": {},
   "outputs": [
    {
     "data": {
      "text/plain": [
       "['\\n\\n053\\n050\\n045\\n043',\n",
       " '039\\n041\\n045\\n035\\n024',\n",
       " '045\\n043\\n038\\n043\\n047',\n",
       " '048\\n044\\n042\\n035\\n\\n047',\n",
       " '043\\n044\\n034\\n029\\n044',\n",
       " '048\\n038\\n\\n']"
      ]
     },
     "execution_count": 134,
     "metadata": {},
     "output_type": "execute_result"
    }
   ],
   "source": [
    "pattern = \"|\".join(months)\n",
    "data = re.split(pattern, text)\n",
    "data[9].split(\"\\n+\")"
   ]
  },
  {
   "cell_type": "code",
   "execution_count": 161,
   "id": "4e323982",
   "metadata": {},
   "outputs": [
    {
     "data": {
      "text/plain": [
       "['D JANUARY FEBRUARY MARCH APRIL MAY JUNE JULY AUGUST SEPTEMBER OCTOBER NOEMBER DECEMBER',\n",
       " '1 029 035 045 .049 043 061 065 020 053 .038 042 .025',\n",
       " '2 020 038 045 045 056 067 .060 054 050 .040 037 .013',\n",
       " '3 018 033 045 .050 052 .063 049 046 045 .040 .030 .022',\n",
       " '4 035 034 028 048 058 066 .050 044 043 046 030 014',\n",
       " '5 037 026 1036 047 2055 1066 .055 1042 039 .043 031 .018',\n",
       " '6 022 032 .040 043 054 .055 .067 .053 041 038 .028 021',\n",
       " '7 007 040 039 049 058 064 .073 049 045 .038 013 .022',\n",
       " '8 003 039 044 044 048 046 074 .055 035 .036 036 016',\n",
       " '9 021 032 046 047 046 058 054 060 024 043 036 019',\n",
       " '10 2021 2025 .044 .055 052 .056 052 .060 045 .049 042 .O1L',\n",
       " '11 036 030 .038 .053 049 .060 .051 053 043 .040 027 .010',\n",
       " '12 038 021 042 .050 047 .063 067 .042 038 .037 024 045',\n",
       " '13 025 022 045 .043 051 065 065 .039 043 036 022 .043',\n",
       " '14 .024 .009 2045 050 2053 .041 .060 .049 .047 .016 026 .031',\n",
       " '15 020 005 050 050 054 .051 056 050 048 042 024',\n",
       " '16 018 037 049 .058 054 .043 059 056 044 .009 035 .017',\n",
       " '17 016 022 046 .054 054 .038 .063 .052 042 .039 027 .O11',\n",
       " '18 023 035 036 049 061 047 .068 .053 035 041 025 025',\n",
       " '19 .024 040 1046 053 .055 .054 .072 036 046 2011 023',\n",
       " '20 O017 041 043 .059 056 055 050 050 .038 008 020',\n",
       " '21 016 041 039 058 055 054 045 045 038 020 .034',\n",
       " '22 014 039 051 055 055 054 .050 046 .038 033 .037',\n",
       " '23 021 042 054 047 039 .062 .031 056 047 .033 038 .029',\n",
       " '24 2025 043 .052 .O051 .047 .058 .055 043 .037 036 028',\n",
       " '25 026 037 050 .058 059 060 .048 044 .038 006 .037',\n",
       " '26 031 034 044 .041 055 .050 .037 034 045 021 .032',\n",
       " '27 016 030 043 .048 055 045 .043 029 041 010 029',\n",
       " '28 029 031 047 .050 053 058 052 044 .033 031 .034',\n",
       " '29 032 1049 .O051 2051 063 .048 048 .025 038 1034',\n",
       " '30 028 051 056 .053 .061 039 038 028 030 026',\n",
       " '31 026 043 055 .047 .042 .025',\n",
       " '']"
      ]
     },
     "execution_count": 161,
     "metadata": {},
     "output_type": "execute_result"
    }
   ],
   "source": [
    "text.split(\"\\n\")"
   ]
  },
  {
   "cell_type": "code",
   "execution_count": 4,
   "id": "7b4eb148",
   "metadata": {},
   "outputs": [],
   "source": [
    "metrics = [\"CO\", \"NO2\", \"O3\", \"PM10\", \"PM25\"]\n",
    "\n",
    "tables = [\n",
    "    f\"{data_dir}/{metric}-{year}_table_1.csv\"\n",
    "    for year in range(2014, 2022 + 1)\n",
    "    for metric in metrics\n",
    "]\n",
    "\n",
    "ProvoAQ = pd.DataFrame()\n",
    "\n",
    "for table in tables:\n",
    "    data = pd.read_csv(table, header=0, names=[col.upper() for col in pd.read_csv(table, nrows=1).columns])\n",
    "    data[\"DAY\"] = list(range(1, data.shape[0] + 1))\n",
    "    \n",
    "    pivoted = pd.melt(data, id_vars=['DAY'], var_name='MONTH', value_name='DATA')\n",
    "    pivoted[\"YEAR\"] = int(table.split(\"_table\")[0][-4:])\n",
    "    pivoted[\"METRIC\"] = table.split(\"/\")[-1].split(\"-\")[0]\n",
    "    \n",
    "    if ProvoAQ.empty:\n",
    "        ProvoAQ = pivoted.copy()\n",
    "    else:\n",
    "        ProvoAQ = pd.concat([ProvoAQ, pivoted.copy()]).reset_index(drop=True)"
   ]
  },
  {
   "cell_type": "code",
   "execution_count": 5,
   "id": "73b12979",
   "metadata": {},
   "outputs": [
    {
     "data": {
      "text/html": [
       "<div>\n",
       "<style scoped>\n",
       "    .dataframe tbody tr th:only-of-type {\n",
       "        vertical-align: middle;\n",
       "    }\n",
       "\n",
       "    .dataframe tbody tr th {\n",
       "        vertical-align: top;\n",
       "    }\n",
       "\n",
       "    .dataframe thead th {\n",
       "        text-align: right;\n",
       "    }\n",
       "</style>\n",
       "<table border=\"1\" class=\"dataframe\">\n",
       "  <thead>\n",
       "    <tr style=\"text-align: right;\">\n",
       "      <th></th>\n",
       "      <th>DAY</th>\n",
       "      <th>MONTH</th>\n",
       "      <th>DATA</th>\n",
       "      <th>YEAR</th>\n",
       "      <th>METRIC</th>\n",
       "    </tr>\n",
       "  </thead>\n",
       "  <tbody>\n",
       "    <tr>\n",
       "      <th>0</th>\n",
       "      <td>1</td>\n",
       "      <td>JANUARY</td>\n",
       "      <td>1.6</td>\n",
       "      <td>2014</td>\n",
       "      <td>CO</td>\n",
       "    </tr>\n",
       "    <tr>\n",
       "      <th>1</th>\n",
       "      <td>2</td>\n",
       "      <td>JANUARY</td>\n",
       "      <td>1.8</td>\n",
       "      <td>2014</td>\n",
       "      <td>CO</td>\n",
       "    </tr>\n",
       "    <tr>\n",
       "      <th>2</th>\n",
       "      <td>3</td>\n",
       "      <td>JANUARY</td>\n",
       "      <td>1.8</td>\n",
       "      <td>2014</td>\n",
       "      <td>CO</td>\n",
       "    </tr>\n",
       "    <tr>\n",
       "      <th>3</th>\n",
       "      <td>4</td>\n",
       "      <td>JANUARY</td>\n",
       "      <td>1.9</td>\n",
       "      <td>2014</td>\n",
       "      <td>CO</td>\n",
       "    </tr>\n",
       "    <tr>\n",
       "      <th>4</th>\n",
       "      <td>5</td>\n",
       "      <td>JANUARY</td>\n",
       "      <td>1.3</td>\n",
       "      <td>2014</td>\n",
       "      <td>CO</td>\n",
       "    </tr>\n",
       "    <tr>\n",
       "      <th>...</th>\n",
       "      <td>...</td>\n",
       "      <td>...</td>\n",
       "      <td>...</td>\n",
       "      <td>...</td>\n",
       "      <td>...</td>\n",
       "    </tr>\n",
       "    <tr>\n",
       "      <th>16459</th>\n",
       "      <td>27</td>\n",
       "      <td>DECEMBER</td>\n",
       "      <td>2.1</td>\n",
       "      <td>2022</td>\n",
       "      <td>PM25</td>\n",
       "    </tr>\n",
       "    <tr>\n",
       "      <th>16460</th>\n",
       "      <td>28</td>\n",
       "      <td>DECEMBER</td>\n",
       "      <td>1.1</td>\n",
       "      <td>2022</td>\n",
       "      <td>PM25</td>\n",
       "    </tr>\n",
       "    <tr>\n",
       "      <th>16461</th>\n",
       "      <td>29</td>\n",
       "      <td>DECEMBER</td>\n",
       "      <td>1.9</td>\n",
       "      <td>2022</td>\n",
       "      <td>PM25</td>\n",
       "    </tr>\n",
       "    <tr>\n",
       "      <th>16462</th>\n",
       "      <td>30</td>\n",
       "      <td>DECEMBER</td>\n",
       "      <td>1.3</td>\n",
       "      <td>2022</td>\n",
       "      <td>PM25</td>\n",
       "    </tr>\n",
       "    <tr>\n",
       "      <th>16463</th>\n",
       "      <td>31</td>\n",
       "      <td>DECEMBER</td>\n",
       "      <td>2.1</td>\n",
       "      <td>2022</td>\n",
       "      <td>PM25</td>\n",
       "    </tr>\n",
       "  </tbody>\n",
       "</table>\n",
       "<p>16464 rows × 5 columns</p>\n",
       "</div>"
      ],
      "text/plain": [
       "       DAY     MONTH DATA  YEAR METRIC\n",
       "0        1   JANUARY  1.6  2014     CO\n",
       "1        2   JANUARY  1.8  2014     CO\n",
       "2        3   JANUARY  1.8  2014     CO\n",
       "3        4   JANUARY  1.9  2014     CO\n",
       "4        5   JANUARY  1.3  2014     CO\n",
       "...    ...       ...  ...   ...    ...\n",
       "16459   27  DECEMBER  2.1  2022   PM25\n",
       "16460   28  DECEMBER  1.1  2022   PM25\n",
       "16461   29  DECEMBER  1.9  2022   PM25\n",
       "16462   30  DECEMBER  1.3  2022   PM25\n",
       "16463   31  DECEMBER  2.1  2022   PM25\n",
       "\n",
       "[16464 rows x 5 columns]"
      ]
     },
     "execution_count": 5,
     "metadata": {},
     "output_type": "execute_result"
    }
   ],
   "source": [
    "ProvoAQ"
   ]
  },
  {
   "cell_type": "code",
   "execution_count": 6,
   "id": "ab67a46b",
   "metadata": {},
   "outputs": [],
   "source": [
    "def is_valid_date(d):\n",
    "    try:\n",
    "        pd.Timestamp(d)\n",
    "        return True\n",
    "    except ValueError:\n",
    "        return False\n",
    "    \n",
    "valid_dates_mask = ProvoAQ.apply(lambda row: is_valid_date(f\"{row['YEAR']}-{row['MONTH']}-{row['DAY']}\"), axis=1)\n",
    "\n",
    "ProvoAQ = ProvoAQ[valid_dates_mask].copy()\n",
    "\n",
    "ProvoAQ['DATE'] = pd.to_datetime(ProvoAQ[['YEAR', 'MONTH', 'DAY']].astype(str).agg('-'.join, axis=1))\n",
    "\n",
    "ProvoAQ.drop(['YEAR', 'MONTH', 'DAY'], axis=1, inplace=True)"
   ]
  },
  {
   "cell_type": "code",
   "execution_count": 7,
   "id": "be62c3b9",
   "metadata": {},
   "outputs": [
    {
     "data": {
      "text/html": [
       "<div>\n",
       "<style scoped>\n",
       "    .dataframe tbody tr th:only-of-type {\n",
       "        vertical-align: middle;\n",
       "    }\n",
       "\n",
       "    .dataframe tbody tr th {\n",
       "        vertical-align: top;\n",
       "    }\n",
       "\n",
       "    .dataframe thead th {\n",
       "        text-align: right;\n",
       "    }\n",
       "</style>\n",
       "<table border=\"1\" class=\"dataframe\">\n",
       "  <thead>\n",
       "    <tr style=\"text-align: right;\">\n",
       "      <th>METRIC</th>\n",
       "      <th>DATE</th>\n",
       "      <th>CO</th>\n",
       "      <th>NO2</th>\n",
       "      <th>O3</th>\n",
       "      <th>PM10</th>\n",
       "      <th>PM25</th>\n",
       "    </tr>\n",
       "  </thead>\n",
       "  <tbody>\n",
       "    <tr>\n",
       "      <th>0</th>\n",
       "      <td>2014-01-01</td>\n",
       "      <td>1.6</td>\n",
       "      <td>54.0</td>\n",
       "      <td>0.029</td>\n",
       "      <td>41.0</td>\n",
       "      <td>P 37.3</td>\n",
       "    </tr>\n",
       "    <tr>\n",
       "      <th>1</th>\n",
       "      <td>2014-01-02</td>\n",
       "      <td>1.8</td>\n",
       "      <td>52.0</td>\n",
       "      <td>0.02</td>\n",
       "      <td>19.0</td>\n",
       "      <td>25.0</td>\n",
       "    </tr>\n",
       "    <tr>\n",
       "      <th>2</th>\n",
       "      <td>2014-01-03</td>\n",
       "      <td>1.8</td>\n",
       "      <td>48.0</td>\n",
       "      <td>0.018</td>\n",
       "      <td>47.0</td>\n",
       "      <td>22.9</td>\n",
       "    </tr>\n",
       "    <tr>\n",
       "      <th>3</th>\n",
       "      <td>2014-01-04</td>\n",
       "      <td>1.9</td>\n",
       "      <td>46.0</td>\n",
       "      <td>0.035</td>\n",
       "      <td>28.0</td>\n",
       "      <td>13.3</td>\n",
       "    </tr>\n",
       "    <tr>\n",
       "      <th>4</th>\n",
       "      <td>2014-01-05</td>\n",
       "      <td>1.3</td>\n",
       "      <td>53.0</td>\n",
       "      <td>0.037</td>\n",
       "      <td>32.0</td>\n",
       "      <td>10.3</td>\n",
       "    </tr>\n",
       "    <tr>\n",
       "      <th>...</th>\n",
       "      <td>...</td>\n",
       "      <td>...</td>\n",
       "      <td>...</td>\n",
       "      <td>...</td>\n",
       "      <td>...</td>\n",
       "      <td>...</td>\n",
       "    </tr>\n",
       "    <tr>\n",
       "      <th>3282</th>\n",
       "      <td>2022-12-27</td>\n",
       "      <td>0.6</td>\n",
       "      <td>29.8</td>\n",
       "      <td>0.033</td>\n",
       "      <td>3.0</td>\n",
       "      <td>2.1</td>\n",
       "    </tr>\n",
       "    <tr>\n",
       "      <th>3283</th>\n",
       "      <td>2022-12-28</td>\n",
       "      <td>300.0</td>\n",
       "      <td>26.1</td>\n",
       "      <td>0.029</td>\n",
       "      <td>3.0</td>\n",
       "      <td>1.1</td>\n",
       "    </tr>\n",
       "    <tr>\n",
       "      <th>3284</th>\n",
       "      <td>2022-12-29</td>\n",
       "      <td>0.3</td>\n",
       "      <td>26.9</td>\n",
       "      <td>0.032</td>\n",
       "      <td>6.0</td>\n",
       "      <td>1.9</td>\n",
       "    </tr>\n",
       "    <tr>\n",
       "      <th>3285</th>\n",
       "      <td>2022-12-30</td>\n",
       "      <td>0.4</td>\n",
       "      <td>14.2</td>\n",
       "      <td>0.038</td>\n",
       "      <td>2.0</td>\n",
       "      <td>1.3</td>\n",
       "    </tr>\n",
       "    <tr>\n",
       "      <th>3286</th>\n",
       "      <td>2022-12-31</td>\n",
       "      <td>400.0</td>\n",
       "      <td>17.0</td>\n",
       "      <td>NaN</td>\n",
       "      <td>3.0</td>\n",
       "      <td>2.1</td>\n",
       "    </tr>\n",
       "  </tbody>\n",
       "</table>\n",
       "<p>3287 rows × 6 columns</p>\n",
       "</div>"
      ],
      "text/plain": [
       "METRIC       DATE     CO   NO2     O3  PM10    PM25\n",
       "0      2014-01-01    1.6  54.0  0.029  41.0  P 37.3\n",
       "1      2014-01-02    1.8  52.0   0.02  19.0    25.0\n",
       "2      2014-01-03    1.8  48.0  0.018  47.0    22.9\n",
       "3      2014-01-04    1.9  46.0  0.035  28.0    13.3\n",
       "4      2014-01-05    1.3  53.0  0.037  32.0    10.3\n",
       "...           ...    ...   ...    ...   ...     ...\n",
       "3282   2022-12-27    0.6  29.8  0.033   3.0     2.1\n",
       "3283   2022-12-28  300.0  26.1  0.029   3.0     1.1\n",
       "3284   2022-12-29    0.3  26.9  0.032   6.0     1.9\n",
       "3285   2022-12-30    0.4  14.2  0.038   2.0     1.3\n",
       "3286   2022-12-31  400.0  17.0    NaN   3.0     2.1\n",
       "\n",
       "[3287 rows x 6 columns]"
      ]
     },
     "execution_count": 7,
     "metadata": {},
     "output_type": "execute_result"
    }
   ],
   "source": [
    "ProvoAQ = ProvoAQ.pivot(index=['DATE'], columns='METRIC', values='DATA').reset_index().copy()\n",
    "ProvoAQ.to_csv(\"ProvoAQ.csv\", index=False)\n",
    "ProvoAQ"
   ]
  },
  {
   "cell_type": "code",
   "execution_count": 210,
   "id": "09ea2f38",
   "metadata": {},
   "outputs": [
    {
     "data": {
      "image/png": "[encoded data removed]",
      "text/plain": [
       "<Figure size 640x480 with 1 Axes>"
      ]
     },
     "metadata": {},
     "output_type": "display_data"
    }
   ],
   "source": []
  },
  {
   "cell_type": "code",
   "execution_count": 213,
   "id": "18c5ab05",
   "metadata": {},
   "outputs": [
    {
     "data": {
      "image/png": "[encoded data removed]",
      "text/plain": [
       "<Figure size 640x480 with 1 Axes>"
      ]
     },
     "metadata": {},
     "output_type": "display_data"
    }
   ],
   "source": []
  },
  {
   "cell_type": "code",
   "execution_count": 8,
   "id": "ff928021",
   "metadata": {},
   "outputs": [
    {
     "name": "stderr",
     "output_type": "stream",
     "text": [
      "C:\\Users\\Owner\\AppData\\Local\\Programs\\Python\\Python311\\Lib\\site-packages\\numpy\\lib\\histograms.py:824: RuntimeWarning: invalid value encountered in greater_equal\n",
      "  keep = (tmp_a >= first_edge)\n",
      "C:\\Users\\Owner\\AppData\\Local\\Programs\\Python\\Python311\\Lib\\site-packages\\numpy\\lib\\histograms.py:825: RuntimeWarning: invalid value encountered in less_equal\n",
      "  keep &= (tmp_a <= last_edge)\n"
     ]
    },
    {
     "data": {
      "image/png": "[encoded data removed]",
      "text/plain": [
       "<Figure size 640x480 with 1 Axes>"
      ]
     },
     "metadata": {},
     "output_type": "display_data"
    }
   ],
   "source": [
    "plt.hist(ProvoAQ['NO2'], bins=30, color='mediumpurple')\n",
    "\n",
    "plt.show()"
   ]
  }
 ],
 "metadata": {
  "kernelspec": {
   "display_name": "Python 3 (ipykernel)",
   "language": "python",
   "name": "python3"
  },
  "language_info": {
   "codemirror_mode": {
    "name": "ipython",
    "version": 3
   },
   "file_extension": ".py",
   "mimetype": "text/x-python",
   "name": "python",
   "nbconvert_exporter": "python",
   "pygments_lexer": "ipython3",
   "version": "3.11.2"
  }
 },
 "nbformat": 4,
 "nbformat_minor": 5
}
